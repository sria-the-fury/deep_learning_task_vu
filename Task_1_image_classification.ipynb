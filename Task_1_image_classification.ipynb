{
  "nbformat": 4,
  "nbformat_minor": 0,
  "metadata": {
    "colab": {
      "provenance": [],
      "gpuType": "T4",
      "authorship_tag": "ABX9TyNJS9c1nOXOPACcVDNPECPX"
    },
    "kernelspec": {
      "name": "python3",
      "display_name": "Python 3"
    },
    "language_info": {
      "name": "python"
    },
    "accelerator": "GPU",
    "widgets": {
      "application/vnd.jupyter.widget-state+json": {
        "e5245b7c83764115be8913267167394d": {
          "model_module": "@jupyter-widgets/controls",
          "model_name": "HBoxModel",
          "model_module_version": "1.5.0",
          "state": {
            "_dom_classes": [],
            "_model_module": "@jupyter-widgets/controls",
            "_model_module_version": "1.5.0",
            "_model_name": "HBoxModel",
            "_view_count": null,
            "_view_module": "@jupyter-widgets/controls",
            "_view_module_version": "1.5.0",
            "_view_name": "HBoxView",
            "box_style": "",
            "children": [
              "IPY_MODEL_2fbadfabecff4d65be7c9abfad2f2dd5",
              "IPY_MODEL_851bbb519c234d158688bf74a6f928ef",
              "IPY_MODEL_fb6a23a4cdf9493da925b871f5e26cfe"
            ],
            "layout": "IPY_MODEL_1d33cb673d51414c95bafcb1355a65c8"
          }
        },
        "2fbadfabecff4d65be7c9abfad2f2dd5": {
          "model_module": "@jupyter-widgets/controls",
          "model_name": "HTMLModel",
          "model_module_version": "1.5.0",
          "state": {
            "_dom_classes": [],
            "_model_module": "@jupyter-widgets/controls",
            "_model_module_version": "1.5.0",
            "_model_name": "HTMLModel",
            "_view_count": null,
            "_view_module": "@jupyter-widgets/controls",
            "_view_module_version": "1.5.0",
            "_view_name": "HTMLView",
            "description": "",
            "description_tooltip": null,
            "layout": "IPY_MODEL_2147d93ec2f0478985f95aac63f0dd8f",
            "placeholder": "​",
            "style": "IPY_MODEL_7c0b2f5c72fa47e79d6e9bebe635c16a",
            "value": "Fetching 1 files: 100%"
          }
        },
        "851bbb519c234d158688bf74a6f928ef": {
          "model_module": "@jupyter-widgets/controls",
          "model_name": "FloatProgressModel",
          "model_module_version": "1.5.0",
          "state": {
            "_dom_classes": [],
            "_model_module": "@jupyter-widgets/controls",
            "_model_module_version": "1.5.0",
            "_model_name": "FloatProgressModel",
            "_view_count": null,
            "_view_module": "@jupyter-widgets/controls",
            "_view_module_version": "1.5.0",
            "_view_name": "ProgressView",
            "bar_style": "success",
            "description": "",
            "description_tooltip": null,
            "layout": "IPY_MODEL_194045de9a6b4ad880514416713fe1c3",
            "max": 1,
            "min": 0,
            "orientation": "horizontal",
            "style": "IPY_MODEL_2ceecb7304b841268970fcda18078bbb",
            "value": 1
          }
        },
        "fb6a23a4cdf9493da925b871f5e26cfe": {
          "model_module": "@jupyter-widgets/controls",
          "model_name": "HTMLModel",
          "model_module_version": "1.5.0",
          "state": {
            "_dom_classes": [],
            "_model_module": "@jupyter-widgets/controls",
            "_model_module_version": "1.5.0",
            "_model_name": "HTMLModel",
            "_view_count": null,
            "_view_module": "@jupyter-widgets/controls",
            "_view_module_version": "1.5.0",
            "_view_name": "HTMLView",
            "description": "",
            "description_tooltip": null,
            "layout": "IPY_MODEL_8ea8333857374122bc72be203918ac15",
            "placeholder": "​",
            "style": "IPY_MODEL_7d79bfb9296c4b80b4ed599587c941c5",
            "value": " 1/1 [00:00&lt;00:00, 88.17it/s]"
          }
        },
        "1d33cb673d51414c95bafcb1355a65c8": {
          "model_module": "@jupyter-widgets/base",
          "model_name": "LayoutModel",
          "model_module_version": "1.2.0",
          "state": {
            "_model_module": "@jupyter-widgets/base",
            "_model_module_version": "1.2.0",
            "_model_name": "LayoutModel",
            "_view_count": null,
            "_view_module": "@jupyter-widgets/base",
            "_view_module_version": "1.2.0",
            "_view_name": "LayoutView",
            "align_content": null,
            "align_items": null,
            "align_self": null,
            "border": null,
            "bottom": null,
            "display": null,
            "flex": null,
            "flex_flow": null,
            "grid_area": null,
            "grid_auto_columns": null,
            "grid_auto_flow": null,
            "grid_auto_rows": null,
            "grid_column": null,
            "grid_gap": null,
            "grid_row": null,
            "grid_template_areas": null,
            "grid_template_columns": null,
            "grid_template_rows": null,
            "height": null,
            "justify_content": null,
            "justify_items": null,
            "left": null,
            "margin": null,
            "max_height": null,
            "max_width": null,
            "min_height": null,
            "min_width": null,
            "object_fit": null,
            "object_position": null,
            "order": null,
            "overflow": null,
            "overflow_x": null,
            "overflow_y": null,
            "padding": null,
            "right": null,
            "top": null,
            "visibility": null,
            "width": null
          }
        },
        "2147d93ec2f0478985f95aac63f0dd8f": {
          "model_module": "@jupyter-widgets/base",
          "model_name": "LayoutModel",
          "model_module_version": "1.2.0",
          "state": {
            "_model_module": "@jupyter-widgets/base",
            "_model_module_version": "1.2.0",
            "_model_name": "LayoutModel",
            "_view_count": null,
            "_view_module": "@jupyter-widgets/base",
            "_view_module_version": "1.2.0",
            "_view_name": "LayoutView",
            "align_content": null,
            "align_items": null,
            "align_self": null,
            "border": null,
            "bottom": null,
            "display": null,
            "flex": null,
            "flex_flow": null,
            "grid_area": null,
            "grid_auto_columns": null,
            "grid_auto_flow": null,
            "grid_auto_rows": null,
            "grid_column": null,
            "grid_gap": null,
            "grid_row": null,
            "grid_template_areas": null,
            "grid_template_columns": null,
            "grid_template_rows": null,
            "height": null,
            "justify_content": null,
            "justify_items": null,
            "left": null,
            "margin": null,
            "max_height": null,
            "max_width": null,
            "min_height": null,
            "min_width": null,
            "object_fit": null,
            "object_position": null,
            "order": null,
            "overflow": null,
            "overflow_x": null,
            "overflow_y": null,
            "padding": null,
            "right": null,
            "top": null,
            "visibility": null,
            "width": null
          }
        },
        "7c0b2f5c72fa47e79d6e9bebe635c16a": {
          "model_module": "@jupyter-widgets/controls",
          "model_name": "DescriptionStyleModel",
          "model_module_version": "1.5.0",
          "state": {
            "_model_module": "@jupyter-widgets/controls",
            "_model_module_version": "1.5.0",
            "_model_name": "DescriptionStyleModel",
            "_view_count": null,
            "_view_module": "@jupyter-widgets/base",
            "_view_module_version": "1.2.0",
            "_view_name": "StyleView",
            "description_width": ""
          }
        },
        "194045de9a6b4ad880514416713fe1c3": {
          "model_module": "@jupyter-widgets/base",
          "model_name": "LayoutModel",
          "model_module_version": "1.2.0",
          "state": {
            "_model_module": "@jupyter-widgets/base",
            "_model_module_version": "1.2.0",
            "_model_name": "LayoutModel",
            "_view_count": null,
            "_view_module": "@jupyter-widgets/base",
            "_view_module_version": "1.2.0",
            "_view_name": "LayoutView",
            "align_content": null,
            "align_items": null,
            "align_self": null,
            "border": null,
            "bottom": null,
            "display": null,
            "flex": null,
            "flex_flow": null,
            "grid_area": null,
            "grid_auto_columns": null,
            "grid_auto_flow": null,
            "grid_auto_rows": null,
            "grid_column": null,
            "grid_gap": null,
            "grid_row": null,
            "grid_template_areas": null,
            "grid_template_columns": null,
            "grid_template_rows": null,
            "height": null,
            "justify_content": null,
            "justify_items": null,
            "left": null,
            "margin": null,
            "max_height": null,
            "max_width": null,
            "min_height": null,
            "min_width": null,
            "object_fit": null,
            "object_position": null,
            "order": null,
            "overflow": null,
            "overflow_x": null,
            "overflow_y": null,
            "padding": null,
            "right": null,
            "top": null,
            "visibility": null,
            "width": null
          }
        },
        "2ceecb7304b841268970fcda18078bbb": {
          "model_module": "@jupyter-widgets/controls",
          "model_name": "ProgressStyleModel",
          "model_module_version": "1.5.0",
          "state": {
            "_model_module": "@jupyter-widgets/controls",
            "_model_module_version": "1.5.0",
            "_model_name": "ProgressStyleModel",
            "_view_count": null,
            "_view_module": "@jupyter-widgets/base",
            "_view_module_version": "1.2.0",
            "_view_name": "StyleView",
            "bar_color": null,
            "description_width": ""
          }
        },
        "8ea8333857374122bc72be203918ac15": {
          "model_module": "@jupyter-widgets/base",
          "model_name": "LayoutModel",
          "model_module_version": "1.2.0",
          "state": {
            "_model_module": "@jupyter-widgets/base",
            "_model_module_version": "1.2.0",
            "_model_name": "LayoutModel",
            "_view_count": null,
            "_view_module": "@jupyter-widgets/base",
            "_view_module_version": "1.2.0",
            "_view_name": "LayoutView",
            "align_content": null,
            "align_items": null,
            "align_self": null,
            "border": null,
            "bottom": null,
            "display": null,
            "flex": null,
            "flex_flow": null,
            "grid_area": null,
            "grid_auto_columns": null,
            "grid_auto_flow": null,
            "grid_auto_rows": null,
            "grid_column": null,
            "grid_gap": null,
            "grid_row": null,
            "grid_template_areas": null,
            "grid_template_columns": null,
            "grid_template_rows": null,
            "height": null,
            "justify_content": null,
            "justify_items": null,
            "left": null,
            "margin": null,
            "max_height": null,
            "max_width": null,
            "min_height": null,
            "min_width": null,
            "object_fit": null,
            "object_position": null,
            "order": null,
            "overflow": null,
            "overflow_x": null,
            "overflow_y": null,
            "padding": null,
            "right": null,
            "top": null,
            "visibility": null,
            "width": null
          }
        },
        "7d79bfb9296c4b80b4ed599587c941c5": {
          "model_module": "@jupyter-widgets/controls",
          "model_name": "DescriptionStyleModel",
          "model_module_version": "1.5.0",
          "state": {
            "_model_module": "@jupyter-widgets/controls",
            "_model_module_version": "1.5.0",
            "_model_name": "DescriptionStyleModel",
            "_view_count": null,
            "_view_module": "@jupyter-widgets/base",
            "_view_module_version": "1.2.0",
            "_view_name": "StyleView",
            "description_width": ""
          }
        }
      }
    }
  },
  "cells": [
    {
      "cell_type": "markdown",
      "source": [
        "# Md Jakaria Mashud Shahria (2431751)\n",
        "\n",
        "**Task 1**\n",
        "\n",
        "The first task will require the realization of:\n",
        "\n",
        "*   usage of existing pre-trained (pre-trained) image classification model adaptation to new task using few-shot,one-shot and zero-shot learning.\n",
        "*   calculate accuracy, precision, recovery and F1 statistics for selected new class on unseen 1000 images from OpenImages,\n",
        "*   to implement threshold value (threshold) change, enabling classification of images for each assigned class by changing T∈[0,1]. Statistics must be recalculated after changing the threshold value.\n",
        "\n",
        "\n",
        "\n",
        "\n",
        "\n"
      ],
      "metadata": {
        "id": "azmkVuurKHIE"
      }
    },
    {
      "cell_type": "markdown",
      "source": [
        "First I tried without gpu, used tensorflow dataset and this method to load dataset:\n",
        "\n",
        "```\n",
        "dataset = tfds.load(‘open_images/v7’, split='train')\n",
        "```\n",
        "\n",
        "Both did not work. Enabling GPU in colab and use FiftyOne package to load openimages_v7 dataset."
      ],
      "metadata": {
        "id": "1149U7wkKhaJ"
      }
    },
    {
      "cell_type": "code",
      "execution_count": 7,
      "metadata": {
        "id": "xhw2ui1sxyGk",
        "colab": {
          "base_uri": "https://localhost:8080/"
        },
        "outputId": "6e584405-7ba5-4ab9-a649-a4eb9260bb84"
      },
      "outputs": [
        {
          "output_type": "stream",
          "name": "stdout",
          "text": [
            "Requirement already satisfied: sse-starlette<1 in /usr/local/lib/python3.12/dist-packages (0.10.3)\n",
            "Requirement already satisfied: starlette in /usr/local/lib/python3.12/dist-packages (from sse-starlette<1) (0.47.3)\n",
            "Requirement already satisfied: anyio<5,>=3.6.2 in /usr/local/lib/python3.12/dist-packages (from starlette->sse-starlette<1) (4.10.0)\n",
            "Requirement already satisfied: typing-extensions>=4.10.0 in /usr/local/lib/python3.12/dist-packages (from starlette->sse-starlette<1) (4.15.0)\n",
            "Requirement already satisfied: idna>=2.8 in /usr/local/lib/python3.12/dist-packages (from anyio<5,>=3.6.2->starlette->sse-starlette<1) (3.10)\n",
            "Requirement already satisfied: sniffio>=1.1 in /usr/local/lib/python3.12/dist-packages (from anyio<5,>=3.6.2->starlette->sse-starlette<1) (1.3.1)\n"
          ]
        }
      ],
      "source": [
        "!pip install \"sse-starlette<1\"\n",
        "!pip install -q fiftyone transformers datasets scikit-learn tqdm torch"
      ]
    },
    {
      "cell_type": "markdown",
      "source": [
        "Use CUDA to get GPU Power, and use OpenAI's ClipModel"
      ],
      "metadata": {
        "id": "YQ9LXE9qLmnj"
      }
    },
    {
      "cell_type": "code",
      "source": [
        "import torch\n",
        "from transformers import CLIPProcessor, CLIPModel\n",
        "from datasets import load_dataset\n",
        "from PIL import Image\n",
        "import numpy as np\n",
        "from sklearn.metrics import accuracy_score, precision_score, recall_score, f1_score\n",
        "from tqdm import tqdm\n",
        "import random\n",
        "from huggingface_hub import login\n",
        "from google.colab import userdata\n",
        "\n",
        "# Use a GPU if available (which we enabled in Colab's runtime settings)\n",
        "DEVICE = \"cuda\" if torch.cuda.is_available() else \"cpu\"\n",
        "print(f\"Using device: {DEVICE}\")\n",
        "\n",
        "# This line securely retrieves the secret you just created\n",
        "hf_token = userdata.get('HF_TOKEN')\n",
        "login(token=hf_token)\n",
        "\n",
        "print(\"Successfully logged in to Hugging Face!\")\n",
        "\n",
        "# Load the pre-trained CLIP model and its processor\n",
        "MODEL_NAME = \"openai/clip-vit-base-patch32\"\n",
        "print(f\"Loading model: {MODEL_NAME}...\")\n",
        "model = CLIPModel.from_pretrained(MODEL_NAME).to(DEVICE)\n",
        "processor = CLIPProcessor.from_pretrained(MODEL_NAME)\n",
        "print(\"Model loaded successfully!\")"
      ],
      "metadata": {
        "colab": {
          "base_uri": "https://localhost:8080/",
          "height": 122,
          "referenced_widgets": [
            "e5245b7c83764115be8913267167394d",
            "2fbadfabecff4d65be7c9abfad2f2dd5",
            "851bbb519c234d158688bf74a6f928ef",
            "fb6a23a4cdf9493da925b871f5e26cfe",
            "1d33cb673d51414c95bafcb1355a65c8",
            "2147d93ec2f0478985f95aac63f0dd8f",
            "7c0b2f5c72fa47e79d6e9bebe635c16a",
            "194045de9a6b4ad880514416713fe1c3",
            "2ceecb7304b841268970fcda18078bbb",
            "8ea8333857374122bc72be203918ac15",
            "7d79bfb9296c4b80b4ed599587c941c5"
          ]
        },
        "id": "JM_gOrD3yEXA",
        "outputId": "2b4e7af6-cd8a-40b5-a36a-1838ba7b9722"
      },
      "execution_count": 8,
      "outputs": [
        {
          "output_type": "stream",
          "name": "stdout",
          "text": [
            "Using device: cuda\n",
            "Successfully logged in to Hugging Face!\n",
            "Loading model: openai/clip-vit-base-patch32...\n"
          ]
        },
        {
          "output_type": "display_data",
          "data": {
            "text/plain": [
              "Fetching 1 files:   0%|          | 0/1 [00:00<?, ?it/s]"
            ],
            "application/vnd.jupyter.widget-view+json": {
              "version_major": 2,
              "version_minor": 0,
              "model_id": "e5245b7c83764115be8913267167394d"
            }
          },
          "metadata": {}
        },
        {
          "output_type": "stream",
          "name": "stdout",
          "text": [
            "Model loaded successfully!\n"
          ]
        }
      ]
    },
    {
      "cell_type": "code",
      "source": [
        "# DATA PREPARATION (Using FiftyOne)\n",
        "import fiftyone as fo\n",
        "import fiftyone.zoo as foz\n",
        "from PIL import Image\n",
        "from tqdm import tqdm\n",
        "import random\n",
        "\n",
        "TARGET_CLASSES = [\"Horse\", \"Cat\", \"Dog\"]  # Changed to a list of target classes\n",
        "NUM_EVAL_IMAGES_PER_CLASS = 300 # Number of evaluation images per class (positive)\n",
        "NUM_NEGATIVE_IMAGES_PER_CLASS = 300 # Number of negative images per class\n",
        "NUM_FEW_SHOT_EXAMPLES = 5  # Number of examples for few-shot learning per class\n",
        "\n",
        "def prepare_dataset():\n",
        "    \"\"\"\n",
        "    Loads and filters the OpenImages v7 dataset using the FiftyOne Zoo.\n",
        "    Collects positive and negative samples for multiple target classes.\n",
        "    \"\"\"\n",
        "    print(\"Preparing dataset from the FiftyOne Zoo...\")\n",
        "\n",
        "    # We'll load a larger number of random samples and then filter them.\n",
        "    # This is an easy way to get both positive and negative examples.\n",
        "    num_samples_to_load = (NUM_EVAL_IMAGES_PER_CLASS + NUM_NEGATIVE_IMAGES_PER_CLASS + NUM_FEW_SHOT_EXAMPLES) * len(TARGET_CLASSES) * 2 # Load more to ensure we find enough of each class\n",
        "\n",
        "    # Load a random subset of the dataset from the zoo\n",
        "    # This downloads only the images and metadata we need.\n",
        "    dataset = foz.load_zoo_dataset(\n",
        "        \"open-images-v7\",\n",
        "        split=\"test\",\n",
        "        label_types=[\"detections\"],\n",
        "        max_samples=num_samples_to_load,\n",
        "        shuffle=True,\n",
        "    )\n",
        "\n",
        "    positive_samples_by_class = {cls: [] for cls in TARGET_CLASSES}\n",
        "    negative_samples = []\n",
        "    support_samples_by_class = {cls: [] for cls in TARGET_CLASSES}\n",
        "\n",
        "    print(\"Filtering for positive and negative samples...\")\n",
        "    # Use a view to make processing faster\n",
        "    view = dataset.select_fields(\"ground_truth\")\n",
        "\n",
        "    total_samples_needed = (NUM_EVAL_IMAGES_PER_CLASS * len(TARGET_CLASSES)) + (NUM_NEGATIVE_IMAGES_PER_CLASS * len(TARGET_CLASSES)) + (NUM_FEW_SHOT_EXAMPLES * len(TARGET_CLASSES))\n",
        "    pbar = tqdm(total=total_samples_needed)\n",
        "\n",
        "    for sample in view.iter_samples(autosave=True, progress=False):\n",
        "        # Get all labels for the current sample\n",
        "        if not sample.ground_truth:\n",
        "            continue\n",
        "\n",
        "        labels = [d.label for d in sample.ground_truth.detections]\n",
        "\n",
        "        # Load the image from its filepath\n",
        "        try:\n",
        "            pil_image = Image.open(sample.filepath).convert(\"RGB\")\n",
        "        except Exception as e:\n",
        "            # Skip images that cannot be opened\n",
        "            # print(f\"Could not open image {sample.filepath}: {e}\")\n",
        "            continue\n",
        "\n",
        "\n",
        "        # Check for support samples\n",
        "        for target_class in TARGET_CLASSES:\n",
        "            if target_class in labels and len(support_samples_by_class[target_class]) < NUM_FEW_SHOT_EXAMPLES:\n",
        "                support_samples_by_class[target_class].append(pil_image)\n",
        "                pbar.update(1)\n",
        "\n",
        "        # Check for positive and negative evaluation samples\n",
        "        is_target_class = any(cls in labels for cls in TARGET_CLASSES)\n",
        "\n",
        "        if is_target_class:\n",
        "            for target_class in TARGET_CLASSES:\n",
        "                if target_class in labels and len(positive_samples_by_class[target_class]) < NUM_EVAL_IMAGES_PER_CLASS:\n",
        "                     positive_samples_by_class[target_class].append(pil_image)\n",
        "                     pbar.update(1)\n",
        "        elif len(negative_samples) < NUM_NEGATIVE_IMAGES_PER_CLASS * len(TARGET_CLASSES): # Collect negative samples for all classes\n",
        "             negative_samples.append(pil_image)\n",
        "             pbar.update(1)\n",
        "\n",
        "\n",
        "        # Check if we have enough samples of all types\n",
        "        have_enough_support = all(len(support_samples_by_class[cls]) >= NUM_FEW_SHOT_EXAMPLES for cls in TARGET_CLASSES)\n",
        "        have_enough_positives = all(len(positive_samples_by_class[cls]) >= NUM_EVAL_IMAGES_PER_CLASS for cls in TARGET_CLASSES)\n",
        "        have_enough_negatives = len(negative_samples) >= NUM_NEGATIVE_IMAGES_PER_CLASS * len(TARGET_CLASSES)\n",
        "\n",
        "\n",
        "        if have_enough_positives and have_enough_negatives and have_enough_support:\n",
        "            break\n",
        "\n",
        "    pbar.close()\n",
        "\n",
        "    # Clean up the downloaded dataset to save space\n",
        "    dataset.delete()\n",
        "\n",
        "    eval_images = []\n",
        "    true_labels = []\n",
        "    support_images = {cls: support_samples_by_class[cls] for cls in TARGET_CLASSES}\n",
        "\n",
        "    # Combine positive and negative samples for evaluation\n",
        "    for i, target_class in enumerate(TARGET_CLASSES):\n",
        "        eval_images.extend(positive_samples_by_class[target_class])\n",
        "        true_labels.extend([target_class] * len(positive_samples_by_class[target_class]))\n",
        "\n",
        "    eval_images.extend(negative_samples)\n",
        "    true_labels.extend([\"Negative\"] * len(negative_samples)) # Assign a generic \"Negative\" label\n",
        "\n",
        "    combined = list(zip(eval_images, true_labels))\n",
        "    random.shuffle(combined)\n",
        "    eval_images, true_labels = zip(*combined)\n",
        "\n",
        "    print(f\"\\nDataset prepared: {len(eval_images)} evaluation images and {NUM_FEW_SHOT_EXAMPLES} support images per class.\")\n",
        "    return list(eval_images), list(true_labels), support_images"
      ],
      "metadata": {
        "id": "fR5kXBW3yKfq"
      },
      "execution_count": 9,
      "outputs": []
    },
    {
      "cell_type": "code",
      "source": [
        "# CLASSIFICATION METHODS\n",
        "\n",
        "import torch\n",
        "from transformers import CLIPProcessor, CLIPModel\n",
        "from datasets import load_dataset\n",
        "from PIL import Image\n",
        "import numpy as np\n",
        "from sklearn.metrics import accuracy_score, precision_score, recall_score, f1_score\n",
        "from tqdm import tqdm\n",
        "import random\n",
        "\n",
        "\n",
        "\n",
        "def predict_zero_shot(image, text_labels):\n",
        "    \"\"\"\n",
        "    Classifies an image using zero-shot learning with text prompts.\n",
        "    Returns the probability score for each provided text label.\n",
        "    \"\"\"\n",
        "    with torch.no_grad():\n",
        "        inputs = processor(text=text_labels, images=image, return_tensors=\"pt\", padding=True).to(DEVICE)\n",
        "        outputs = model(**inputs)\n",
        "        logits_per_image = outputs.logits_per_image\n",
        "        probs = logits_per_image.softmax(dim=1)\n",
        "        return probs[0].tolist() # Return probabilities for all text labels\n",
        "\n",
        "def get_image_embedding(image):\n",
        "    \"\"\"Helper function to get the embedding for a single image.\"\"\"\n",
        "    with torch.no_grad():\n",
        "        inputs = processor(images=image, return_tensors=\"pt\").to(DEVICE)\n",
        "        embedding = model.get_image_features(**inputs)\n",
        "        return torch.nn.functional.normalize(embedding, p=2, dim=-1)\n",
        "\n",
        "def predict_few_shot(query_image, support_embeddings_by_class):\n",
        "    \"\"\"\n",
        "    Classifies an image by comparing it to the average embedding of support images for each class.\n",
        "    Returns the cosine similarity score for each class.\n",
        "    \"\"\"\n",
        "    with torch.no_grad():\n",
        "        query_embedding = get_image_embedding(query_image)\n",
        "        similarities = {}\n",
        "        for class_name, support_embeddings in support_embeddings_by_class.items():\n",
        "            if support_embeddings.numel() > 0:  # Check if tensor is not empty\n",
        "                # Ensure avg_support_embedding is a single vector\n",
        "                avg_support_embedding = torch.mean(support_embeddings, dim=0, keepdim=True)\n",
        "\n",
        "                # Calculate cosine similarity manually\n",
        "                dot_product = torch.sum(query_embedding * avg_support_embedding, dim=-1)\n",
        "                # Since embeddings are already L2 normalized, the dot product is the cosine similarity\n",
        "                similarity = dot_product\n",
        "\n",
        "                # Get the scalar value\n",
        "                similarities[class_name] = similarity.item()\n",
        "            else:\n",
        "                 similarities[class_name] = 0.0  # Assign 0.0 if no support embeddings\n",
        "        return similarities"
      ],
      "metadata": {
        "id": "A1KMx-rlyQ8D"
      },
      "execution_count": 10,
      "outputs": []
    },
    {
      "cell_type": "code",
      "source": [
        "# EVALUATION\n",
        "\n",
        "def calculate_and_print_metrics(scores, true_labels, threshold):\n",
        "    \"\"\"\n",
        "    Calculates and prints classification metrics based on a given threshold.\n",
        "    \"\"\"\n",
        "    predictions = [1 if score >= threshold else 0 for score in scores]\n",
        "\n",
        "    accuracy = accuracy_score(true_labels, predictions)\n",
        "    precision = precision_score(true_labels, predictions, zero_division=0)\n",
        "    recall = recall_score(true_labels, predictions, zero_division=0)\n",
        "    f1 = f1_score(true_labels, predictions, zero_division=0)\n",
        "\n",
        "    print(f\"Threshold: {threshold:.2f}\")\n",
        "    print(f\"  Accuracy:  {accuracy:.4f}\")\n",
        "    print(f\"  Precision: {precision:.4f}\")\n",
        "    print(f\"  Recall (Recovery): {recall:.4f}\")\n",
        "    print(f\"  F1-Score:  {f1:.4f}\")\n",
        "    print(\"-\" * 30)"
      ],
      "metadata": {
        "id": "IZp8n_YvyTuL"
      },
      "execution_count": 11,
      "outputs": []
    },
    {
      "cell_type": "code",
      "source": [
        "#Mani Execution\n",
        "\n",
        "eval_images, true_labels, support_images = prepare_dataset()\n",
        "\n",
        "#ZERO-SHOT LEARNING\n",
        "print(\"\\n\" + \"=\"*50)\n",
        "print(\"Starting Zero-Shot Classification...\")\n",
        "print(\"=\"*50)\n",
        "\n",
        "for target_class in TARGET_CLASSES:\n",
        "    print(f\"\\nEvaluating Zero-Shot for class: {target_class}\")\n",
        "    zero_shot_labels = [f\"a photo of a {target_class}\", \"a photo of something else\"]\n",
        "    # Filter eval_images and true_labels for the current target class and negative samples\n",
        "    class_eval_images = [img for img, label in zip(eval_images, true_labels) if label == target_class or label == \"Negative\"]\n",
        "    class_true_labels = [1 if label == target_class else 0 for label in true_labels if label == target_class or label == \"Negative\"]\n",
        "\n",
        "    # Extract the probability of the target class\n",
        "    zero_shot_scores = [predict_zero_shot(img, zero_shot_labels)[0] for img in tqdm(class_eval_images, desc=f\"Zero-Shot ({target_class})\")]\n",
        "\n",
        "    print(f\"\\nZero-Shot Evaluation Results for {target_class}:\")\n",
        "\n",
        "    for T in [0.1, 0.3, 0.5, 0.7, 0.9]:\n",
        "        calculate_and_print_metrics(zero_shot_scores, class_true_labels, threshold=T)\n",
        "\n",
        "\n",
        "#ONE-SHOT LEARNING\n",
        "print(\"\\n\" + \"=\"*50)\n",
        "print(\"Starting One-Shot Classification...\")\n",
        "print(\"=\"*50)\n",
        "\n",
        "for target_class in TARGET_CLASSES:\n",
        "    print(f\"\\nEvaluating One-Shot for class: {target_class}\")\n",
        "    if support_images[target_class]:\n",
        "        one_shot_support_embedding = get_image_embedding(support_images[target_class][0])\n",
        "\n",
        "        # Filter eval_images and true_labels for the current target class and negative samples\n",
        "        class_eval_images = [img for img, label in zip(eval_images, true_labels) if label == target_class or label == \"Negative\"]\n",
        "        class_true_labels = [1 if label == target_class else 0 for label in true_labels if label == target_class or label == \"Negative\"]\n",
        "\n",
        "        # Extract the similarity score for the target class\n",
        "        one_shot_scores = [predict_few_shot(img, {target_class: one_shot_support_embedding.unsqueeze(0)})[target_class] for img in tqdm(class_eval_images, desc=f\"One-Shot ({target_class})\")]\n",
        "\n",
        "\n",
        "        print(f\"\\nOne-Shot Evaluation Results for {target_class}:\")\n",
        "\n",
        "        for T in [0.20, 0.25, 0.30, 0.35, 0.40]:\n",
        "            calculate_and_print_metrics(one_shot_scores, class_true_labels, threshold=T)\n",
        "    else:\n",
        "        print(f\"  No support images found for {target_class}. Skipping One-Shot evaluation.\")\n",
        "\n",
        "\n",
        "#FEW-SHOT LEARNING\n",
        "print(\"\\n\" + \"=\"*50)\n",
        "print(f\"Starting Few-Shot ({NUM_FEW_SHOT_EXAMPLES} examples) Classification...\")\n",
        "print(\"=\"*50)\n",
        "\n",
        "for target_class in TARGET_CLASSES:\n",
        "    print(f\"\\nEvaluating Few-Shot for class: {target_class}\")\n",
        "    if support_images[target_class]:\n",
        "        few_shot_support_embeddings = torch.cat([get_image_embedding(img) for img in support_images[target_class]], dim=0)\n",
        "\n",
        "        # Filter eval_images and true_labels for the current target class and negative samples\n",
        "        class_eval_images = [img for img, label in zip(eval_images, true_labels) if label == target_class or label == \"Negative\"]\n",
        "        class_true_labels = [1 if label == target_class else 0 for label in true_labels if label == target_class or label == \"Negative\"]\n",
        "\n",
        "        # Extract the similarity score for the target class\n",
        "        few_shot_scores = [predict_few_shot(img, {target_class: few_shot_support_embeddings})[target_class] for img in tqdm(class_eval_images, desc=f\"Few-Shot ({target_class})\")]\n",
        "\n",
        "\n",
        "        print(f\"\\nFew-Shot ({NUM_FEW_SHOT_EXAMPLES} examples) Evaluation Results for {target_class}:\")\n",
        "\n",
        "        for T in [0.20, 0.25, 0.30, 0.35, 0.40]:\n",
        "            calculate_and_print_metrics(few_shot_scores, class_true_labels, threshold=T)\n",
        "    else:\n",
        "        print(f\"  No support images found for {target_class}. Skipping Few-Shot evaluation.\")"
      ],
      "metadata": {
        "id": "qiw7CLciyj0D",
        "colab": {
          "base_uri": "https://localhost:8080/"
        },
        "outputId": "5d741c59-a156-430c-e463-affb7f96c4fe"
      },
      "execution_count": 12,
      "outputs": [
        {
          "output_type": "stream",
          "name": "stdout",
          "text": [
            "Preparing dataset from the FiftyOne Zoo...\n",
            "Downloading split 'test' to '/root/fiftyone/open-images-v7/test' if necessary\n"
          ]
        },
        {
          "output_type": "stream",
          "name": "stderr",
          "text": [
            "INFO:fiftyone.zoo.datasets:Downloading split 'test' to '/root/fiftyone/open-images-v7/test' if necessary\n"
          ]
        },
        {
          "output_type": "stream",
          "name": "stdout",
          "text": [
            "Found 226 images, downloading the remaining 3404\n"
          ]
        },
        {
          "output_type": "stream",
          "name": "stderr",
          "text": [
            "INFO:fiftyone.utils.openimages:Found 226 images, downloading the remaining 3404\n"
          ]
        },
        {
          "output_type": "stream",
          "name": "stdout",
          "text": [
            " 100% |█████████████████| 3404/3404 [6.4m elapsed, 0s remaining, 7.1 files/s]       \n"
          ]
        },
        {
          "output_type": "stream",
          "name": "stderr",
          "text": [
            "INFO:eta.core.utils: 100% |█████████████████| 3404/3404 [6.4m elapsed, 0s remaining, 7.1 files/s]       \n"
          ]
        },
        {
          "output_type": "stream",
          "name": "stdout",
          "text": [
            "Dataset info written to '/root/fiftyone/open-images-v7/info.json'\n"
          ]
        },
        {
          "output_type": "stream",
          "name": "stderr",
          "text": [
            "INFO:fiftyone.zoo.datasets:Dataset info written to '/root/fiftyone/open-images-v7/info.json'\n"
          ]
        },
        {
          "output_type": "stream",
          "name": "stdout",
          "text": [
            "You are running the oldest supported major version of MongoDB. Please refer to https://deprecation.voxel51.com for deprecation notices. You can suppress this exception by setting your `database_validation` config parameter to `False`. See https://docs.voxel51.com/user_guide/config.html#configuring-a-mongodb-connection for more information\n"
          ]
        },
        {
          "output_type": "stream",
          "name": "stderr",
          "text": [
            "WARNING:fiftyone.core.odm.database:You are running the oldest supported major version of MongoDB. Please refer to https://deprecation.voxel51.com for deprecation notices. You can suppress this exception by setting your `database_validation` config parameter to `False`. See https://docs.voxel51.com/user_guide/config.html#configuring-a-mongodb-connection for more information\n"
          ]
        },
        {
          "output_type": "stream",
          "name": "stdout",
          "text": [
            "Loading 'open-images-v7' split 'test'\n"
          ]
        },
        {
          "output_type": "stream",
          "name": "stderr",
          "text": [
            "INFO:fiftyone.zoo.datasets:Loading 'open-images-v7' split 'test'\n"
          ]
        },
        {
          "output_type": "stream",
          "name": "stdout",
          "text": [
            " 100% |███████████████| 3630/3630 [30.0s elapsed, 0s remaining, 317.6 samples/s]      \n"
          ]
        },
        {
          "output_type": "stream",
          "name": "stderr",
          "text": [
            "INFO:eta.core.utils: 100% |███████████████| 3630/3630 [30.0s elapsed, 0s remaining, 317.6 samples/s]      \n"
          ]
        },
        {
          "output_type": "stream",
          "name": "stdout",
          "text": [
            "Dataset 'open-images-v7-test-3630' created\n"
          ]
        },
        {
          "output_type": "stream",
          "name": "stderr",
          "text": [
            "INFO:fiftyone.zoo.datasets:Dataset 'open-images-v7-test-3630' created\n"
          ]
        },
        {
          "output_type": "stream",
          "name": "stdout",
          "text": [
            "Filtering for positive and negative samples...\n"
          ]
        },
        {
          "output_type": "stream",
          "name": "stderr",
          "text": [
            " 61%|██████    | 1101/1815 [00:40<00:26, 26.95it/s]\n"
          ]
        },
        {
          "output_type": "stream",
          "name": "stdout",
          "text": [
            "\n",
            "Dataset prepared: 1086 evaluation images and 5 support images per class.\n",
            "\n",
            "==================================================\n",
            "Starting Zero-Shot Classification...\n",
            "==================================================\n",
            "\n",
            "Evaluating Zero-Shot for class: Horse\n"
          ]
        },
        {
          "output_type": "stream",
          "name": "stderr",
          "text": [
            "Zero-Shot (Horse): 100%|██████████| 918/918 [00:29<00:00, 31.27it/s]\n"
          ]
        },
        {
          "output_type": "stream",
          "name": "stdout",
          "text": [
            "\n",
            "Zero-Shot Evaluation Results for Horse:\n",
            "Threshold: 0.10\n",
            "  Accuracy:  0.5893\n",
            "  Precision: 0.0456\n",
            "  Recall (Recovery): 1.0000\n",
            "  F1-Score:  0.0872\n",
            "------------------------------\n",
            "Threshold: 0.30\n",
            "  Accuracy:  0.8747\n",
            "  Precision: 0.1353\n",
            "  Recall (Recovery): 1.0000\n",
            "  F1-Score:  0.2384\n",
            "------------------------------\n",
            "Threshold: 0.50\n",
            "  Accuracy:  0.9423\n",
            "  Precision: 0.2535\n",
            "  Recall (Recovery): 1.0000\n",
            "  F1-Score:  0.4045\n",
            "------------------------------\n",
            "Threshold: 0.70\n",
            "  Accuracy:  0.9815\n",
            "  Precision: 0.5143\n",
            "  Recall (Recovery): 1.0000\n",
            "  F1-Score:  0.6792\n",
            "------------------------------\n",
            "Threshold: 0.90\n",
            "  Accuracy:  0.9880\n",
            "  Precision: 0.6296\n",
            "  Recall (Recovery): 0.9444\n",
            "  F1-Score:  0.7556\n",
            "------------------------------\n",
            "\n",
            "Evaluating Zero-Shot for class: Cat\n"
          ]
        },
        {
          "output_type": "stream",
          "name": "stderr",
          "text": [
            "Zero-Shot (Cat): 100%|██████████| 926/926 [00:27<00:00, 33.74it/s]\n"
          ]
        },
        {
          "output_type": "stream",
          "name": "stdout",
          "text": [
            "\n",
            "Zero-Shot Evaluation Results for Cat:\n",
            "Threshold: 0.10\n",
            "  Accuracy:  0.7797\n",
            "  Precision: 0.1096\n",
            "  Recall (Recovery): 0.9615\n",
            "  F1-Score:  0.1969\n",
            "------------------------------\n",
            "Threshold: 0.30\n",
            "  Accuracy:  0.9568\n",
            "  Precision: 0.3906\n",
            "  Recall (Recovery): 0.9615\n",
            "  F1-Score:  0.5556\n",
            "------------------------------\n",
            "Threshold: 0.50\n",
            "  Accuracy:  0.9762\n",
            "  Precision: 0.5435\n",
            "  Recall (Recovery): 0.9615\n",
            "  F1-Score:  0.6944\n",
            "------------------------------\n",
            "Threshold: 0.70\n",
            "  Accuracy:  0.9860\n",
            "  Precision: 0.6757\n",
            "  Recall (Recovery): 0.9615\n",
            "  F1-Score:  0.7937\n",
            "------------------------------\n",
            "Threshold: 0.90\n",
            "  Accuracy:  0.9946\n",
            "  Precision: 0.8621\n",
            "  Recall (Recovery): 0.9615\n",
            "  F1-Score:  0.9091\n",
            "------------------------------\n",
            "\n",
            "Evaluating Zero-Shot for class: Dog\n"
          ]
        },
        {
          "output_type": "stream",
          "name": "stderr",
          "text": [
            "Zero-Shot (Dog): 100%|██████████| 1042/1042 [00:30<00:00, 34.15it/s]\n"
          ]
        },
        {
          "output_type": "stream",
          "name": "stdout",
          "text": [
            "\n",
            "Zero-Shot Evaluation Results for Dog:\n",
            "Threshold: 0.10\n",
            "  Accuracy:  0.6756\n",
            "  Precision: 0.2958\n",
            "  Recall (Recovery): 1.0000\n",
            "  F1-Score:  0.4566\n",
            "------------------------------\n",
            "Threshold: 0.30\n",
            "  Accuracy:  0.8992\n",
            "  Precision: 0.5749\n",
            "  Recall (Recovery): 1.0000\n",
            "  F1-Score:  0.7301\n",
            "------------------------------\n",
            "Threshold: 0.50\n",
            "  Accuracy:  0.9501\n",
            "  Precision: 0.7320\n",
            "  Recall (Recovery): 1.0000\n",
            "  F1-Score:  0.8452\n",
            "------------------------------\n",
            "Threshold: 0.70\n",
            "  Accuracy:  0.9837\n",
            "  Precision: 0.8931\n",
            "  Recall (Recovery): 1.0000\n",
            "  F1-Score:  0.9435\n",
            "------------------------------\n",
            "Threshold: 0.90\n",
            "  Accuracy:  0.9933\n",
            "  Precision: 0.9787\n",
            "  Recall (Recovery): 0.9718\n",
            "  F1-Score:  0.9753\n",
            "------------------------------\n",
            "\n",
            "==================================================\n",
            "Starting One-Shot Classification...\n",
            "==================================================\n",
            "\n",
            "Evaluating One-Shot for class: Horse\n"
          ]
        },
        {
          "output_type": "stream",
          "name": "stderr",
          "text": [
            "One-Shot (Horse): 100%|██████████| 918/918 [00:20<00:00, 45.46it/s]\n"
          ]
        },
        {
          "output_type": "stream",
          "name": "stdout",
          "text": [
            "\n",
            "One-Shot Evaluation Results for Horse:\n",
            "Threshold: 0.20\n",
            "  Accuracy:  0.0207\n",
            "  Precision: 0.0196\n",
            "  Recall (Recovery): 1.0000\n",
            "  F1-Score:  0.0385\n",
            "------------------------------\n",
            "Threshold: 0.25\n",
            "  Accuracy:  0.0229\n",
            "  Precision: 0.0197\n",
            "  Recall (Recovery): 1.0000\n",
            "  F1-Score:  0.0386\n",
            "------------------------------\n",
            "Threshold: 0.30\n",
            "  Accuracy:  0.0523\n",
            "  Precision: 0.0203\n",
            "  Recall (Recovery): 1.0000\n",
            "  F1-Score:  0.0397\n",
            "------------------------------\n",
            "Threshold: 0.35\n",
            "  Accuracy:  0.1449\n",
            "  Precision: 0.0224\n",
            "  Recall (Recovery): 1.0000\n",
            "  F1-Score:  0.0438\n",
            "------------------------------\n",
            "Threshold: 0.40\n",
            "  Accuracy:  0.3366\n",
            "  Precision: 0.0287\n",
            "  Recall (Recovery): 1.0000\n",
            "  F1-Score:  0.0558\n",
            "------------------------------\n",
            "\n",
            "Evaluating One-Shot for class: Cat\n"
          ]
        },
        {
          "output_type": "stream",
          "name": "stderr",
          "text": [
            "One-Shot (Cat): 100%|██████████| 926/926 [00:19<00:00, 48.14it/s]\n"
          ]
        },
        {
          "output_type": "stream",
          "name": "stdout",
          "text": [
            "\n",
            "One-Shot Evaluation Results for Cat:\n",
            "Threshold: 0.20\n",
            "  Accuracy:  0.0281\n",
            "  Precision: 0.0281\n",
            "  Recall (Recovery): 1.0000\n",
            "  F1-Score:  0.0546\n",
            "------------------------------\n",
            "Threshold: 0.25\n",
            "  Accuracy:  0.0281\n",
            "  Precision: 0.0281\n",
            "  Recall (Recovery): 1.0000\n",
            "  F1-Score:  0.0546\n",
            "------------------------------\n",
            "Threshold: 0.30\n",
            "  Accuracy:  0.0346\n",
            "  Precision: 0.0283\n",
            "  Recall (Recovery): 1.0000\n",
            "  F1-Score:  0.0550\n",
            "------------------------------\n",
            "Threshold: 0.35\n",
            "  Accuracy:  0.0486\n",
            "  Precision: 0.0287\n",
            "  Recall (Recovery): 1.0000\n",
            "  F1-Score:  0.0557\n",
            "------------------------------\n",
            "Threshold: 0.40\n",
            "  Accuracy:  0.0864\n",
            "  Precision: 0.0298\n",
            "  Recall (Recovery): 1.0000\n",
            "  F1-Score:  0.0579\n",
            "------------------------------\n",
            "\n",
            "Evaluating One-Shot for class: Dog\n"
          ]
        },
        {
          "output_type": "stream",
          "name": "stderr",
          "text": [
            "One-Shot (Dog): 100%|██████████| 1042/1042 [00:22<00:00, 46.17it/s]\n"
          ]
        },
        {
          "output_type": "stream",
          "name": "stdout",
          "text": [
            "\n",
            "One-Shot Evaluation Results for Dog:\n",
            "Threshold: 0.20\n",
            "  Accuracy:  0.1363\n",
            "  Precision: 0.1363\n",
            "  Recall (Recovery): 1.0000\n",
            "  F1-Score:  0.2399\n",
            "------------------------------\n",
            "Threshold: 0.25\n",
            "  Accuracy:  0.1392\n",
            "  Precision: 0.1367\n",
            "  Recall (Recovery): 1.0000\n",
            "  F1-Score:  0.2405\n",
            "------------------------------\n",
            "Threshold: 0.30\n",
            "  Accuracy:  0.1497\n",
            "  Precision: 0.1381\n",
            "  Recall (Recovery): 1.0000\n",
            "  F1-Score:  0.2427\n",
            "------------------------------\n",
            "Threshold: 0.35\n",
            "  Accuracy:  0.1871\n",
            "  Precision: 0.1436\n",
            "  Recall (Recovery): 1.0000\n",
            "  F1-Score:  0.2511\n",
            "------------------------------\n",
            "Threshold: 0.40\n",
            "  Accuracy:  0.3100\n",
            "  Precision: 0.1649\n",
            "  Recall (Recovery): 1.0000\n",
            "  F1-Score:  0.2832\n",
            "------------------------------\n",
            "\n",
            "==================================================\n",
            "Starting Few-Shot (5 examples) Classification...\n",
            "==================================================\n",
            "\n",
            "Evaluating Few-Shot for class: Horse\n"
          ]
        },
        {
          "output_type": "stream",
          "name": "stderr",
          "text": [
            "Few-Shot (Horse): 100%|██████████| 918/918 [00:18<00:00, 48.90it/s]\n"
          ]
        },
        {
          "output_type": "stream",
          "name": "stdout",
          "text": [
            "\n",
            "Few-Shot (5 examples) Evaluation Results for Horse:\n",
            "Threshold: 0.20\n",
            "  Accuracy:  0.0196\n",
            "  Precision: 0.0196\n",
            "  Recall (Recovery): 1.0000\n",
            "  F1-Score:  0.0385\n",
            "------------------------------\n",
            "Threshold: 0.25\n",
            "  Accuracy:  0.0207\n",
            "  Precision: 0.0196\n",
            "  Recall (Recovery): 1.0000\n",
            "  F1-Score:  0.0385\n",
            "------------------------------\n",
            "Threshold: 0.30\n",
            "  Accuracy:  0.0251\n",
            "  Precision: 0.0197\n",
            "  Recall (Recovery): 1.0000\n",
            "  F1-Score:  0.0387\n",
            "------------------------------\n",
            "Threshold: 0.35\n",
            "  Accuracy:  0.0654\n",
            "  Precision: 0.0205\n",
            "  Recall (Recovery): 1.0000\n",
            "  F1-Score:  0.0403\n",
            "------------------------------\n",
            "Threshold: 0.40\n",
            "  Accuracy:  0.1721\n",
            "  Precision: 0.0231\n",
            "  Recall (Recovery): 1.0000\n",
            "  F1-Score:  0.0452\n",
            "------------------------------\n",
            "\n",
            "Evaluating Few-Shot for class: Cat\n"
          ]
        },
        {
          "output_type": "stream",
          "name": "stderr",
          "text": [
            "Few-Shot (Cat): 100%|██████████| 926/926 [00:20<00:00, 45.63it/s]\n"
          ]
        },
        {
          "output_type": "stream",
          "name": "stdout",
          "text": [
            "\n",
            "Few-Shot (5 examples) Evaluation Results for Cat:\n",
            "Threshold: 0.20\n",
            "  Accuracy:  0.0281\n",
            "  Precision: 0.0281\n",
            "  Recall (Recovery): 1.0000\n",
            "  F1-Score:  0.0546\n",
            "------------------------------\n",
            "Threshold: 0.25\n",
            "  Accuracy:  0.0292\n",
            "  Precision: 0.0281\n",
            "  Recall (Recovery): 1.0000\n",
            "  F1-Score:  0.0547\n",
            "------------------------------\n",
            "Threshold: 0.30\n",
            "  Accuracy:  0.0302\n",
            "  Precision: 0.0281\n",
            "  Recall (Recovery): 1.0000\n",
            "  F1-Score:  0.0547\n",
            "------------------------------\n",
            "Threshold: 0.35\n",
            "  Accuracy:  0.0421\n",
            "  Precision: 0.0285\n",
            "  Recall (Recovery): 1.0000\n",
            "  F1-Score:  0.0554\n",
            "------------------------------\n",
            "Threshold: 0.40\n",
            "  Accuracy:  0.0745\n",
            "  Precision: 0.0294\n",
            "  Recall (Recovery): 1.0000\n",
            "  F1-Score:  0.0572\n",
            "------------------------------\n",
            "\n",
            "Evaluating Few-Shot for class: Dog\n"
          ]
        },
        {
          "output_type": "stream",
          "name": "stderr",
          "text": [
            "Few-Shot (Dog): 100%|██████████| 1042/1042 [00:21<00:00, 47.78it/s]\n"
          ]
        },
        {
          "output_type": "stream",
          "name": "stdout",
          "text": [
            "\n",
            "Few-Shot (5 examples) Evaluation Results for Dog:\n",
            "Threshold: 0.20\n",
            "  Accuracy:  0.1363\n",
            "  Precision: 0.1363\n",
            "  Recall (Recovery): 1.0000\n",
            "  F1-Score:  0.2399\n",
            "------------------------------\n",
            "Threshold: 0.25\n",
            "  Accuracy:  0.1372\n",
            "  Precision: 0.1364\n",
            "  Recall (Recovery): 1.0000\n",
            "  F1-Score:  0.2401\n",
            "------------------------------\n",
            "Threshold: 0.30\n",
            "  Accuracy:  0.1430\n",
            "  Precision: 0.1372\n",
            "  Recall (Recovery): 1.0000\n",
            "  F1-Score:  0.2413\n",
            "------------------------------\n",
            "Threshold: 0.35\n",
            "  Accuracy:  0.1689\n",
            "  Precision: 0.1409\n",
            "  Recall (Recovery): 1.0000\n",
            "  F1-Score:  0.2470\n",
            "------------------------------\n",
            "Threshold: 0.40\n",
            "  Accuracy:  0.2486\n",
            "  Precision: 0.1535\n",
            "  Recall (Recovery): 1.0000\n",
            "  F1-Score:  0.2662\n",
            "------------------------------\n"
          ]
        }
      ]
    },
    {
      "cell_type": "code",
      "metadata": {
        "colab": {
          "base_uri": "https://localhost:8080/"
        },
        "id": "57881dc9",
        "outputId": "b82e4b07-fc60-44cd-ad0a-80609a76e4b1"
      },
      "source": [
        "# DEMONSTRATION: Get probabilities for a sample image across all classes and methods\n",
        "\n",
        "# Choose a sample image from the evaluation set\n",
        "if eval_images:\n",
        "    sample_image = eval_images[0]\n",
        "    sample_true_label = true_labels[0]\n",
        "\n",
        "    # --- Zero-Shot Probabilities ---\n",
        "    print(\"\\nZero-Shot Probabilities:\")\n",
        "    # Create labels for all target classes\n",
        "    zero_shot_labels = [f\"a photo of a {cls}\" for cls in TARGET_CLASSES]\n",
        "    zero_shot_probs = predict_zero_shot(sample_image, zero_shot_labels)\n",
        "\n",
        "    # Print probabilities for each target class\n",
        "    for i, class_name in enumerate(TARGET_CLASSES):\n",
        "        print(f\"  {class_name}: {zero_shot_probs[i]:.4f}\")\n",
        "\n",
        "    # Zero-shot prediction\n",
        "    predicted_index = zero_shot_probs.index(max(zero_shot_probs))\n",
        "    predicted_label = zero_shot_labels[predicted_index].replace(\"a photo of a \", \"\")\n",
        "    print(f\"Predicted (Zero-Shot): {predicted_label}\")\n",
        "\n",
        "\n",
        "    # --- One-Shot Probabilities ---\n",
        "    print(\"\\nOne-Shot Probabilities:\")\n",
        "    one_shot_similarities = {}\n",
        "    one_shot_support_embeddings = {}\n",
        "    for target_class in TARGET_CLASSES:\n",
        "        if support_images[target_class]:\n",
        "            one_shot_support_embeddings[target_class] = get_image_embedding(support_images[target_class][0]).unsqueeze(0) # Keep embeddings as [1, 512] tensors\n",
        "        else:\n",
        "             one_shot_support_embeddings[target_class] = torch.tensor([]).to(DEVICE) # Handle case with no support images\n",
        "\n",
        "    one_shot_similarities = predict_few_shot(sample_image, one_shot_support_embeddings)\n",
        "\n",
        "    # Print similarity scores for each target class\n",
        "    for class_name in TARGET_CLASSES:\n",
        "         print(f\"  {class_name}: {one_shot_similarities[class_name]:.4f}\")\n",
        "\n",
        "    # One-shot prediction (based on highest similarity)\n",
        "    predicted_class_one_shot = max(one_shot_similarities, key=one_shot_similarities.get)\n",
        "    print(f\"Predicted (One-Shot): {predicted_class_one_shot}\")\n",
        "\n",
        "\n",
        "    # --- Few-Shot Probabilities ---\n",
        "    print(f\"\\nFew-Shot ({NUM_FEW_SHOT_EXAMPLES} examples) Probabilities):\")\n",
        "    few_shot_similarities = {}\n",
        "    support_embeddings_for_few_shot = {}\n",
        "    for target_class in TARGET_CLASSES:\n",
        "        if support_images[target_class]:\n",
        "            support_embeddings_for_few_shot[target_class] = torch.cat([get_image_embedding(img) for img in support_images[target_class]], dim=0)\n",
        "        else:\n",
        "             support_embeddings_for_few_shot[target_class] = torch.tensor([]).to(DEVICE) # Handle case with no support images\n",
        "\n",
        "\n",
        "    few_shot_similarities = predict_few_shot(sample_image, support_embeddings_for_few_shot)\n",
        "\n",
        "    # Print similarity scores for each target class\n",
        "    for class_name in TARGET_CLASSES:\n",
        "         print(f\"  {class_name}: {few_shot_similarities[class_name]:.4f}\")\n",
        "\n",
        "    # Few-shot prediction (based on highest similarity)\n",
        "    predicted_class_few_shot = max(few_shot_similarities, key=few_shot_similarities.get)\n",
        "    print(f\"Predicted (Few-Shot): {predicted_class_few_shot}\")\n",
        "\n",
        "\n",
        "else:\n",
        "    print(\"No evaluation images available to demonstrate.\")"
      ],
      "execution_count": 20,
      "outputs": [
        {
          "output_type": "stream",
          "name": "stdout",
          "text": [
            "\n",
            "Zero-Shot Probabilities:\n",
            "  Horse: 0.3898\n",
            "  Cat: 0.1956\n",
            "  Dog: 0.4146\n",
            "Predicted (Zero-Shot): Dog\n",
            "\n",
            "One-Shot Probabilities:\n",
            "  Horse: 0.4595\n",
            "  Cat: 0.4725\n",
            "  Dog: 0.3937\n",
            "Predicted (One-Shot): Cat\n",
            "\n",
            "Few-Shot (5 examples) Probabilities):\n",
            "  Horse: 0.4476\n",
            "  Cat: 0.4656\n",
            "  Dog: 0.4407\n",
            "Predicted (Few-Shot): Cat\n"
          ]
        }
      ]
    }
  ]
}